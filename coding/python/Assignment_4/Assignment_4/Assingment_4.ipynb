{
  "nbformat": 4,
  "nbformat_minor": 0,
  "metadata": {
    "colab": {
      "name": "Assingment_4.ipynb",
      "provenance": [],
      "collapsed_sections": []
    },
    "kernelspec": {
      "name": "python3",
      "display_name": "Python 3",
      "language": "python"
    }
  },
  "cells": [
    {
      "cell_type": "markdown",
      "metadata": {
        "id": "3z9l7S6RV8-2"
      },
      "source": [
        "In this assignment you will get a chance to implement LSTM cell from Scratch and Usage of Recurrent Neural Network for 1D time series Prediction task .\n",
        "\n",
        "#### **Instructions**\n",
        "1. Use Python 3.x to run this notebook\n",
        "3. Write your code only in between the lines 'YOUR CODE STARTS HERE' and 'YOUR CODE ENDS HERE'.\n",
        "you should not change anything else code cells, if you do, the answers you are supposed to get at the end of this assignment might be wrong.\n",
        "4. Read documentation of each function carefully."
      ]
    },
    {
      "cell_type": "markdown",
      "metadata": {
        "id": "GT8skzfOLu91"
      },
      "source": [
        "## Question 1:\n",
        "\n",
        "Given a sequence of values of a 1D input time series from time t = 1 to t = 5, predict the value of the time series at t = 6 using RNN.\n",
        "\n",
        "Here we trained an RNN in such a way that, given values of input time series from t = 1 to t=i ; it will predict the value at t= i+1.\n",
        "\n",
        "Hint : Design an RNN using pytorch's nn.RNN to create an RNN layer , then add a fully-connected layer to get the required output size.\n",
        "\n",
        "Choose 32 as the number of features in the RNN output and in the hidden state. Also, choose number of layers to be 1 to make up the RNN, typically such number varies depending on different tasks. The value greater than 1 means that you'll create a stacked RNN. Also, use \"batch_first =True\". Here, \"batch_first\" implies whether or not the input/output of the RNN will have the batch_size as the first dimension (batch_size, seq_length, hidden_dim). \n"
      ]
    },
    {
      "cell_type": "code",
      "metadata": {
        "id": "qoVHp8ZWqYpd"
      },
      "source": [
        "import torch\n",
        "from torch import nn\n",
        "import numpy as np\n",
        "import matplotlib.pyplot as plt\n",
        "import numpy as np\n",
        "%matplotlib inline\n",
        "\n",
        "\n",
        "## Fixing the seed for Reproducibility\n",
        "np.random.seed(1)\n",
        "torch.manual_seed(1)\n",
        "\n",
        "## Define 1D input time series, which spans from t= 1 to t=6.\n",
        "input_series = np.random.randn(6,1)\n",
        "\n",
        "\n",
        "class RNN(nn.Module):\n",
        "    def __init__(self, input_size, output_size, hidden_dim, n_layers):\n",
        "        super(RNN, self).__init__()\n",
        "\n",
        "        ### YOUR CODE STARTS HERE\n",
        "        self.rnn = nn.RNN(input_size=input_size,hidden_size=32,num_layers=1,batch_first=True)\n",
        "        self.fc1 = nn.Linear(32,output_size)\n",
        "        \n",
        "    def forward(self, x, hidden):\n",
        "        out,hid=self.rnn(x)\n",
        "        out=self.fc1(out)\n",
        "        #out = self.fc1(out[:, -1, :]) \n",
        "        return out[0] ,hid\n",
        "        \n",
        "        ### YOUR CODE ENDS HERE\n",
        "\n",
        "# decide on hyperparameters\n",
        "input_size=1    ## 1D input\n",
        "output_size=1   ## 1D output\n",
        "hidden_dim=32  ## Hidden state feature dimension of RNN\n",
        "n_layers=1     ## No. of stacked layers in RNN\n",
        "\n",
        "# instantiate an RNN\n",
        "rnn = RNN(input_size, output_size, hidden_dim, n_layers)\n",
        "\n",
        "# MSE loss and Adam optimizer with a learning rate of 0.01\n",
        "criterion = nn.MSELoss()\n",
        "optimizer = torch.optim.Adam(rnn.parameters(), lr=0.01)\n",
        "\n",
        "# train the RNN\n",
        "def train(rnn, n_steps, print_every):\n",
        "    \n",
        "    # initialize the hidden state\n",
        "    hidden = None      \n",
        "    \n",
        "    for batch_i, step in enumerate(range(n_steps)):\n",
        "        # defining the training data \n",
        "        x = input_series[:-1]\n",
        "        y = input_series[1:]\n",
        "        \n",
        "        # convert data into Tensors\n",
        "        x_tensor = torch.Tensor(x).unsqueeze(0) # unsqueeze gives a 1, batch_size dimension\n",
        "        y_tensor = torch.Tensor(y)\n",
        "\n",
        "        # outputs from the rnn\n",
        "        prediction, hidden = rnn(x_tensor, hidden)\n",
        "\n",
        "        ## Representing Memory ##\n",
        "        # make a new variable for hidden and detach the hidden state from its history\n",
        "        # this way, we don't backpropagate through the entire history\n",
        "        hidden = hidden.data\n",
        "\n",
        "        # calculate the loss\n",
        "        loss = criterion(prediction, y_tensor)\n",
        "        # zero gradients\n",
        "        optimizer.zero_grad()\n",
        "        # perform backprop and update weights\n",
        "        loss.backward()\n",
        "        optimizer.step()\n",
        "\n",
        "        # display loss and predictions\n",
        "        if batch_i%print_every == 0:  \n",
        "            print (batch_i)      \n",
        "            print('Loss: ', loss.item())\n",
        "            print ('Predicted Value: ', prediction.data.numpy().flatten())\n",
        "            print ('True Value: ', y_tensor.data.numpy().flatten())\n",
        "            \n",
        "    \n",
        "    return rnn,prediction[-1]\n",
        "\n",
        "# train the rnn and monitor results\n",
        "trained_rnn,final_prediction = train(rnn, n_steps = 75, print_every= 11)\n",
        "#print(final_prediction.data.numpy())\n",
        "print ('Final predicted value of input time series at t=6: ',final_prediction.item())"
      ],
      "execution_count": 16,
      "outputs": [
        {
          "output_type": "stream",
          "name": "stdout",
          "text": [
            "0\n",
            "Loss:  1.5117348432540894\n",
            "Predicted Value:  [-0.18635052 -0.00746428  0.05009793  0.05678663 -0.02306957]\n",
            "True Value:  [-0.6117564  -0.5281718  -1.0729686   0.86540765 -2.3015387 ]\n",
            "11\n",
            "Loss:  0.17117467522621155\n",
            "Predicted Value:  [-1.1242571   0.01409128 -1.4364806   1.2616227  -2.4017377 ]\n",
            "True Value:  [-0.6117564  -0.5281718  -1.0729686   0.86540765 -2.3015387 ]\n",
            "22\n",
            "Loss:  0.0257004052400589\n",
            "Predicted Value:  [-0.8625432  -0.65644956 -1.2690521   0.9668686  -2.3217802 ]\n",
            "True Value:  [-0.6117564  -0.5281718  -1.0729686   0.86540765 -2.3015387 ]\n",
            "33\n",
            "Loss:  0.00878409668803215\n",
            "Predicted Value:  [-0.53372186 -0.4725641  -0.92941976  0.7992105  -2.2027938 ]\n",
            "True Value:  [-0.6117564  -0.5281718  -1.0729686   0.86540765 -2.3015387 ]\n",
            "44\n",
            "Loss:  0.006239252630621195\n",
            "Predicted Value:  [-0.53502613 -0.5857098  -1.0279086   0.72779965 -2.3336594 ]\n",
            "True Value:  [-0.6117564  -0.5281718  -1.0729686   0.86540765 -2.3015387 ]\n",
            "55\n",
            "Loss:  0.0010371545795351267\n",
            "Predicted Value:  [-0.596573   -0.5360092  -1.024904    0.86010087 -2.2509873 ]\n",
            "True Value:  [-0.6117564  -0.5281718  -1.0729686   0.86540765 -2.3015387 ]\n",
            "66\n",
            "Loss:  0.000279710948234424\n",
            "Predicted Value:  [-0.64293253 -0.52804244 -1.0787239   0.85450125 -2.3181071 ]\n",
            "True Value:  [-0.6117564  -0.5281718  -1.0729686   0.86540765 -2.3015387 ]\n",
            "Final predicted value of input time series at t=6:  -2.292928457260132\n"
          ]
        }
      ]
    },
    {
      "cell_type": "markdown",
      "metadata": {
        "id": "6zfAVRvIFjxh"
      },
      "source": [
        "## Question 2:\n",
        "\n",
        "Given a Multivariate input time sequence and all the trainable parameters of LSTM Cell; Implement all the functionalities of the LSTM cell in order to predict the hidden state and output at time=t; given LSTM \"cell state\" at previous time step (t= t-1), LSTM \"hidden state\" at previous time step ( t= t-1) and the input at time=t. Hint : Follow the following sets of equation for implementing the functionality of LSTM Cell.\n",
        "\n",
        "Forget GATE: $f_{t} = \\sigma(W_{f}[ a_{t-1} ; x_{t}]  + b_{f}) $ (Note that \";\" denotes contatenation operation.)\n",
        "\n",
        "Update GATE: $i_{t} = \\sigma(W_{i}[ a_{t-1} ; x_{t} ] + b_i )$\n",
        "\n",
        "Memory GATE: $\\tilde{c}_{t} = tanh(W_c[ a_{t-1} ; x_{t} ] + b_c )$\n",
        "            update step -> $c_{t} =  f_{t} * c_{t-1} + i_{t} * \\tilde{c}_{t}$  (This operation determines how much information to keep from past and how much to add from current step information)\n",
        "\n",
        "Output GATE: $o_{t} = \\sigma(W_o [ a_{t-1} ; x_{t} ] + b_o)$\n",
        "           Final Output: $a_{t} = o_{t}*tanh(c_t) $\n",
        "( Note: For implementing \"tanh\" operation; use numpy.tanh libary function)\n",
        "\n",
        "\n",
        "a> Compute the value of a specific component of LSTM cell \"Output\" (y), i.e. y[1, 3, 4]? \n",
        "\n",
        "b> Also find the value of a specific component of LSTM hidden state output(a) ; i.e. a[2,1,5].\n",
        "\n",
        "\n"
      ]
    },
    {
      "cell_type": "code",
      "metadata": {
        "id": "FOok6KSeaJ1o"
      },
      "source": [
        "\n",
        "import numpy as np\n",
        "np.random.seed(2)\n",
        "\n",
        "## Function implements Sigmoid Activation\n",
        "def sigmoid(x):\n",
        "    return 1 / (1 + np.exp(-x))\n",
        "\n",
        "## Function implements Softmax Activation\n",
        "def softmax(x):\n",
        "    e_x = np.exp(x - np.max(x))\n",
        "    return e_x / e_x.sum(axis=0)\n",
        "\n",
        "## Function implements LSTM \"forward pass\" of a single time step..i.e. given x at time step t, hidden state \n",
        "##at previous time step Memory state at previous time step , this function computes predicted output y at time step t. \n",
        "\n",
        "def lstm_forward_pass(xt, a_prev, c_prev, parameters):\n",
        "    \"\"\"\n",
        "    Implement a single forward step of the LSTM-cell \n",
        "\n",
        "    Arguments:\n",
        "    xt -- your input data at timestep \"t\"\n",
        "    a_prev -- Hidden state at timestep \"t-1\"\n",
        "    c_prev -- Memory state at timestep \"t-1\"\n",
        "\n",
        "    # Trainable Parameters of a LSTM cell\n",
        "    Wf -- Weight matrix of the forget gate; bf -- Bias of the forget gate\n",
        "    Wi -- Weight matrix of the update gate; bi -- Bias of the update gate\n",
        "    Wc -- Weight matrix of the first \"tanh\"; bc --  Bias of the first \"tanh\"\n",
        "    Wo -- Weight matrix of the output gate; bo --  Bias of the output gate\n",
        "    Wy -- Weight matrix relating the hidden-state to the output; by -- Bias relating the hidden-state to the output\n",
        "                        \n",
        "    The LSTM Cell MUST Returns:\n",
        "    a_next -- next hidden state\n",
        "    c_next -- next memory state\n",
        "    yt_pred -- LSTM output prediction at timestep \"t\"\n",
        "    cache -- tuple of values needed for the backward pass, contains (a_next, c_next, a_prev, c_prev, xt, parameters)\n",
        "    Note: ft/it/ot stand for the forget/update/output gates, cct stands for the candidate value (c tilde),\n",
        "          c stands for the memory value\n",
        "    \"\"\"\n",
        "\n",
        "    # Retrieve parameters from \"parameters\"\n",
        "    Wf = parameters[\"Wf\"]; bf = parameters[\"bf\"]\n",
        "    Wi = parameters[\"Wi\"]; bi = parameters[\"bi\"]\n",
        "    Wc = parameters[\"Wc\"]; bc = parameters[\"bc\"]\n",
        "    Wo = parameters[\"Wo\"]; bo = parameters[\"bo\"]\n",
        "    Wy = parameters[\"Wy\"]; by = parameters[\"by\"]\n",
        "    \n",
        "    # Retrieve dimensions from shapes of xt and Wy\n",
        "    n_x, m = xt.shape\n",
        "    n_y, n_a = Wy.shape\n",
        "\n",
        "    ### YOUR CODE STARTS HERE ###\n",
        "    \n",
        "\n",
        "    ### YOUR CODE ENDS HERE ###\n",
        "\n",
        "    # store values needed for backward propagation in cache\n",
        "    cache = (a_next, c_next, a_prev, c_prev, ft, it, cct, ot, xt, parameters)\n",
        "\n",
        "    return a_next, c_next, yt_pred, cache\n",
        "\n",
        "def lstm_forward(x, a0, parameters):\n",
        "    \"\"\"\n",
        "    Implement the forward propagation of the recurrent neural network using an LSTM-cell.\n",
        "\n",
        "    Arguments:\n",
        "    x -- Input data for every time-step\n",
        "    a0 -- Initial hidden state of LSTM cell\n",
        "    parameters \n",
        "    Wf -- Weight matrix of the forget gate ;bf -- Bias of the forget gate\n",
        "    Wi -- Weight matrix of the update gate ;bi -- Bias of the update gate\n",
        "    Wc -- Weight matrix of the first \"tanh\";bc -- Bias of the first \"tanh\"\n",
        "    Wo -- Weight matrix of the output gate; bo -- Bias of the output gate\n",
        "    Wy -- Weight matrix relating the hidden-state to the output; by -- Bias relating the hidden-state to the output\n",
        "                        \n",
        "    This Function call MUST Returns:\n",
        "    a -- Hidden states for every time-step, numpy array of shape (n_a, m, T_x)\n",
        "    y -- Predictions for every time-step, numpy array of shape (n_y, m, T_x)\n",
        "    c -- Memory states for every time-step\n",
        "    caches -- tuple of values needed for the backward pass, contains (list of all the caches, x)\n",
        "    \"\"\"\n",
        "\n",
        "    # Initialize \"caches\", which will track the list of all the caches\n",
        "    caches = []\n",
        "    \n",
        "    ### YOUR CODE STARTS HERE ###\n",
        "\n",
        "\n",
        "    ### YOUR CODE ENDS HERE ###\n",
        "\n",
        "    # store values needed for backward propagation in cache\n",
        "    caches = (caches, x)\n",
        "    \n",
        "\n",
        "    return a, y, c, caches\n",
        "\n",
        "# Input time sequence\n",
        "x = np.random.randn(3,10,7)\n",
        "\n",
        "# Initial Hidden state of LSTM\n",
        "a0 = np.random.randn(5,10)\n",
        "\n",
        "# Weight and Bias Parameters of FORGET gate\n",
        "Weight_f = np.random.randn(5, 8); bias_f = np.random.randn(5,1)\n",
        "\n",
        "# Weight and Bias Parameters of UPDATE gate\n",
        "Weight_i = np.random.randn(5, 8); bias_i = np.random.randn(5,1)\n",
        "\n",
        "# Weight and Bias Parameters of OUTPUT gate\n",
        "Weight_o = np.random.randn(5, 8); bias_o = np.random.randn(5,1)\n",
        "\n",
        "# Weight and Bias Parameters of MEMORY gate (updating the cell)\n",
        "Weight_c = np.random.randn(5, 8); bias_c = np.random.randn(5,1)\n",
        "\n",
        "# Weight and bias for transforming hidden state output to final LSTM output for downstream application\n",
        "Weight_y = np.random.randn(2,5); bias_y = np.random.randn(2,1)\n",
        "\n",
        "LSTM_parameters = {\"Wf\": Weight_f, \"Wi\": Weight_i, \"Wo\": Weight_o, \"Wc\": Weight_c, \"Wy\": Weight_y, \"bf\": bias_f, \"bi\": bias_i, \"bo\": bias_o, \"bc\": bias_c, \"by\": bias_y}\n",
        "\n",
        "a, y, c, caches = lstm_forward(x, a0, LSTM_parameters)\n",
        "\n",
        "## Print the specific component value of LSTM cell \"Output\" (y) ;i.e. y[1,3,4]\n",
        "print(\"y[1][3][4] =\", y[1][3][4])\n",
        "print(\"y.shape = \", y.shape)\n",
        "\n",
        "## Print the specific component value of LSTM \"hidden state\" Output (a) ;i.e. a[2,1,5]\n",
        "print(\"a[2][1][5] = \", a[2][1][5])\n",
        "print(\"a.shape = \", a.shape)"
      ],
      "execution_count": null,
      "outputs": []
    },
    {
      "cell_type": "markdown",
      "metadata": {
        "id": "2SQRxSU9Tkwx"
      },
      "source": [
        "## Question 3:\n",
        "\n",
        "Time series prediction using recurrent models. \n",
        "\n",
        "Use the airline-passengers.csv file for this task.\n",
        "\n"
      ]
    },
    {
      "cell_type": "code",
      "metadata": {
        "id": "5e5Athrzw-DA"
      },
      "source": [
        "import numpy as np\n",
        "import matplotlib.pyplot as plt\n",
        "import pandas as pd\n",
        "import torch\n",
        "import torch.nn as nn\n",
        "from torch.autograd import Variable\n",
        "from sklearn.preprocessing import MinMaxScaler\n",
        "\n",
        "training_set = pd.read_csv('airline-passengers.csv')\n",
        "#training_set = pd.read_csv('shampoo.csv')\n",
        "\n",
        "training_set = training_set.iloc[:,1:2].values\n",
        "\n",
        "#plt.plot(training_set, label = 'Shampoo Sales Data')\n",
        "plt.plot(training_set, label = 'Airline Passangers Data')\n",
        "plt.show()"
      ],
      "execution_count": 17,
      "outputs": [
        {
          "output_type": "display_data",
          "data": {
            "text/plain": "<Figure size 432x288 with 1 Axes>",
            "image/svg+xml": "<?xml version=\"1.0\" encoding=\"utf-8\" standalone=\"no\"?>\n<!DOCTYPE svg PUBLIC \"-//W3C//DTD SVG 1.1//EN\"\n  \"http://www.w3.org/Graphics/SVG/1.1/DTD/svg11.dtd\">\n<!-- Created with matplotlib (https://matplotlib.org/) -->\n<svg height=\"248.518125pt\" version=\"1.1\" viewBox=\"0 0 375.2875 248.518125\" width=\"375.2875pt\" xmlns=\"http://www.w3.org/2000/svg\" xmlns:xlink=\"http://www.w3.org/1999/xlink\">\n <metadata>\n  <rdf:RDF xmlns:cc=\"http://creativecommons.org/ns#\" xmlns:dc=\"http://purl.org/dc/elements/1.1/\" xmlns:rdf=\"http://www.w3.org/1999/02/22-rdf-syntax-ns#\">\n   <cc:Work>\n    <dc:type rdf:resource=\"http://purl.org/dc/dcmitype/StillImage\"/>\n    <dc:date>2021-03-22T14:50:31.866394</dc:date>\n    <dc:format>image/svg+xml</dc:format>\n    <dc:creator>\n     <cc:Agent>\n      <dc:title>Matplotlib v3.3.4, https://matplotlib.org/</dc:title>\n     </cc:Agent>\n    </dc:creator>\n   </cc:Work>\n  </rdf:RDF>\n </metadata>\n <defs>\n  <style type=\"text/css\">*{stroke-linecap:butt;stroke-linejoin:round;}</style>\n </defs>\n <g id=\"figure_1\">\n  <g id=\"patch_1\">\n   <path d=\"M 0 248.518125 \nL 375.2875 248.518125 \nL 375.2875 0 \nL 0 0 \nz\n\" style=\"fill:none;\"/>\n  </g>\n  <g id=\"axes_1\">\n   <g id=\"patch_2\">\n    <path d=\"M 33.2875 224.64 \nL 368.0875 224.64 \nL 368.0875 7.2 \nL 33.2875 7.2 \nz\n\" style=\"fill:#ffffff;\"/>\n   </g>\n   <g id=\"matplotlib.axis_1\">\n    <g id=\"xtick_1\">\n     <g id=\"line2d_1\">\n      <defs>\n       <path d=\"M 0 0 \nL 0 3.5 \n\" id=\"mc0183c22a6\" style=\"stroke:#000000;stroke-width:0.8;\"/>\n      </defs>\n      <g>\n       <use style=\"stroke:#000000;stroke-width:0.8;\" x=\"48.505682\" xlink:href=\"#mc0183c22a6\" y=\"224.64\"/>\n      </g>\n     </g>\n     <g id=\"text_1\">\n      <!-- 0 -->\n      <g transform=\"translate(45.324432 239.238437)scale(0.1 -0.1)\">\n       <defs>\n        <path d=\"M 31.78125 66.40625 \nQ 24.171875 66.40625 20.328125 58.90625 \nQ 16.5 51.421875 16.5 36.375 \nQ 16.5 21.390625 20.328125 13.890625 \nQ 24.171875 6.390625 31.78125 6.390625 \nQ 39.453125 6.390625 43.28125 13.890625 \nQ 47.125 21.390625 47.125 36.375 \nQ 47.125 51.421875 43.28125 58.90625 \nQ 39.453125 66.40625 31.78125 66.40625 \nz\nM 31.78125 74.21875 \nQ 44.046875 74.21875 50.515625 64.515625 \nQ 56.984375 54.828125 56.984375 36.375 \nQ 56.984375 17.96875 50.515625 8.265625 \nQ 44.046875 -1.421875 31.78125 -1.421875 \nQ 19.53125 -1.421875 13.0625 8.265625 \nQ 6.59375 17.96875 6.59375 36.375 \nQ 6.59375 54.828125 13.0625 64.515625 \nQ 19.53125 74.21875 31.78125 74.21875 \nz\n\" id=\"DejaVuSans-48\"/>\n       </defs>\n       <use xlink:href=\"#DejaVuSans-48\"/>\n      </g>\n     </g>\n    </g>\n    <g id=\"xtick_2\">\n     <g id=\"line2d_2\">\n      <g>\n       <use style=\"stroke:#000000;stroke-width:0.8;\" x=\"91.074023\" xlink:href=\"#mc0183c22a6\" y=\"224.64\"/>\n      </g>\n     </g>\n     <g id=\"text_2\">\n      <!-- 20 -->\n      <g transform=\"translate(84.711523 239.238437)scale(0.1 -0.1)\">\n       <defs>\n        <path d=\"M 19.1875 8.296875 \nL 53.609375 8.296875 \nL 53.609375 0 \nL 7.328125 0 \nL 7.328125 8.296875 \nQ 12.9375 14.109375 22.625 23.890625 \nQ 32.328125 33.6875 34.8125 36.53125 \nQ 39.546875 41.84375 41.421875 45.53125 \nQ 43.3125 49.21875 43.3125 52.78125 \nQ 43.3125 58.59375 39.234375 62.25 \nQ 35.15625 65.921875 28.609375 65.921875 \nQ 23.96875 65.921875 18.8125 64.3125 \nQ 13.671875 62.703125 7.8125 59.421875 \nL 7.8125 69.390625 \nQ 13.765625 71.78125 18.9375 73 \nQ 24.125 74.21875 28.421875 74.21875 \nQ 39.75 74.21875 46.484375 68.546875 \nQ 53.21875 62.890625 53.21875 53.421875 \nQ 53.21875 48.921875 51.53125 44.890625 \nQ 49.859375 40.875 45.40625 35.40625 \nQ 44.1875 33.984375 37.640625 27.21875 \nQ 31.109375 20.453125 19.1875 8.296875 \nz\n\" id=\"DejaVuSans-50\"/>\n       </defs>\n       <use xlink:href=\"#DejaVuSans-50\"/>\n       <use x=\"63.623047\" xlink:href=\"#DejaVuSans-48\"/>\n      </g>\n     </g>\n    </g>\n    <g id=\"xtick_3\">\n     <g id=\"line2d_3\">\n      <g>\n       <use style=\"stroke:#000000;stroke-width:0.8;\" x=\"133.642363\" xlink:href=\"#mc0183c22a6\" y=\"224.64\"/>\n      </g>\n     </g>\n     <g id=\"text_3\">\n      <!-- 40 -->\n      <g transform=\"translate(127.279863 239.238437)scale(0.1 -0.1)\">\n       <defs>\n        <path d=\"M 37.796875 64.3125 \nL 12.890625 25.390625 \nL 37.796875 25.390625 \nz\nM 35.203125 72.90625 \nL 47.609375 72.90625 \nL 47.609375 25.390625 \nL 58.015625 25.390625 \nL 58.015625 17.1875 \nL 47.609375 17.1875 \nL 47.609375 0 \nL 37.796875 0 \nL 37.796875 17.1875 \nL 4.890625 17.1875 \nL 4.890625 26.703125 \nz\n\" id=\"DejaVuSans-52\"/>\n       </defs>\n       <use xlink:href=\"#DejaVuSans-52\"/>\n       <use x=\"63.623047\" xlink:href=\"#DejaVuSans-48\"/>\n      </g>\n     </g>\n    </g>\n    <g id=\"xtick_4\">\n     <g id=\"line2d_4\">\n      <g>\n       <use style=\"stroke:#000000;stroke-width:0.8;\" x=\"176.210704\" xlink:href=\"#mc0183c22a6\" y=\"224.64\"/>\n      </g>\n     </g>\n     <g id=\"text_4\">\n      <!-- 60 -->\n      <g transform=\"translate(169.848204 239.238437)scale(0.1 -0.1)\">\n       <defs>\n        <path d=\"M 33.015625 40.375 \nQ 26.375 40.375 22.484375 35.828125 \nQ 18.609375 31.296875 18.609375 23.390625 \nQ 18.609375 15.53125 22.484375 10.953125 \nQ 26.375 6.390625 33.015625 6.390625 \nQ 39.65625 6.390625 43.53125 10.953125 \nQ 47.40625 15.53125 47.40625 23.390625 \nQ 47.40625 31.296875 43.53125 35.828125 \nQ 39.65625 40.375 33.015625 40.375 \nz\nM 52.59375 71.296875 \nL 52.59375 62.3125 \nQ 48.875 64.0625 45.09375 64.984375 \nQ 41.3125 65.921875 37.59375 65.921875 \nQ 27.828125 65.921875 22.671875 59.328125 \nQ 17.53125 52.734375 16.796875 39.40625 \nQ 19.671875 43.65625 24.015625 45.921875 \nQ 28.375 48.1875 33.59375 48.1875 \nQ 44.578125 48.1875 50.953125 41.515625 \nQ 57.328125 34.859375 57.328125 23.390625 \nQ 57.328125 12.15625 50.6875 5.359375 \nQ 44.046875 -1.421875 33.015625 -1.421875 \nQ 20.359375 -1.421875 13.671875 8.265625 \nQ 6.984375 17.96875 6.984375 36.375 \nQ 6.984375 53.65625 15.1875 63.9375 \nQ 23.390625 74.21875 37.203125 74.21875 \nQ 40.921875 74.21875 44.703125 73.484375 \nQ 48.484375 72.75 52.59375 71.296875 \nz\n\" id=\"DejaVuSans-54\"/>\n       </defs>\n       <use xlink:href=\"#DejaVuSans-54\"/>\n       <use x=\"63.623047\" xlink:href=\"#DejaVuSans-48\"/>\n      </g>\n     </g>\n    </g>\n    <g id=\"xtick_5\">\n     <g id=\"line2d_5\">\n      <g>\n       <use style=\"stroke:#000000;stroke-width:0.8;\" x=\"218.779045\" xlink:href=\"#mc0183c22a6\" y=\"224.64\"/>\n      </g>\n     </g>\n     <g id=\"text_5\">\n      <!-- 80 -->\n      <g transform=\"translate(212.416545 239.238437)scale(0.1 -0.1)\">\n       <defs>\n        <path d=\"M 31.78125 34.625 \nQ 24.75 34.625 20.71875 30.859375 \nQ 16.703125 27.09375 16.703125 20.515625 \nQ 16.703125 13.921875 20.71875 10.15625 \nQ 24.75 6.390625 31.78125 6.390625 \nQ 38.8125 6.390625 42.859375 10.171875 \nQ 46.921875 13.96875 46.921875 20.515625 \nQ 46.921875 27.09375 42.890625 30.859375 \nQ 38.875 34.625 31.78125 34.625 \nz\nM 21.921875 38.8125 \nQ 15.578125 40.375 12.03125 44.71875 \nQ 8.5 49.078125 8.5 55.328125 \nQ 8.5 64.0625 14.71875 69.140625 \nQ 20.953125 74.21875 31.78125 74.21875 \nQ 42.671875 74.21875 48.875 69.140625 \nQ 55.078125 64.0625 55.078125 55.328125 \nQ 55.078125 49.078125 51.53125 44.71875 \nQ 48 40.375 41.703125 38.8125 \nQ 48.828125 37.15625 52.796875 32.3125 \nQ 56.78125 27.484375 56.78125 20.515625 \nQ 56.78125 9.90625 50.3125 4.234375 \nQ 43.84375 -1.421875 31.78125 -1.421875 \nQ 19.734375 -1.421875 13.25 4.234375 \nQ 6.78125 9.90625 6.78125 20.515625 \nQ 6.78125 27.484375 10.78125 32.3125 \nQ 14.796875 37.15625 21.921875 38.8125 \nz\nM 18.3125 54.390625 \nQ 18.3125 48.734375 21.84375 45.5625 \nQ 25.390625 42.390625 31.78125 42.390625 \nQ 38.140625 42.390625 41.71875 45.5625 \nQ 45.3125 48.734375 45.3125 54.390625 \nQ 45.3125 60.0625 41.71875 63.234375 \nQ 38.140625 66.40625 31.78125 66.40625 \nQ 25.390625 66.40625 21.84375 63.234375 \nQ 18.3125 60.0625 18.3125 54.390625 \nz\n\" id=\"DejaVuSans-56\"/>\n       </defs>\n       <use xlink:href=\"#DejaVuSans-56\"/>\n       <use x=\"63.623047\" xlink:href=\"#DejaVuSans-48\"/>\n      </g>\n     </g>\n    </g>\n    <g id=\"xtick_6\">\n     <g id=\"line2d_6\">\n      <g>\n       <use style=\"stroke:#000000;stroke-width:0.8;\" x=\"261.347386\" xlink:href=\"#mc0183c22a6\" y=\"224.64\"/>\n      </g>\n     </g>\n     <g id=\"text_6\">\n      <!-- 100 -->\n      <g transform=\"translate(251.803636 239.238437)scale(0.1 -0.1)\">\n       <defs>\n        <path d=\"M 12.40625 8.296875 \nL 28.515625 8.296875 \nL 28.515625 63.921875 \nL 10.984375 60.40625 \nL 10.984375 69.390625 \nL 28.421875 72.90625 \nL 38.28125 72.90625 \nL 38.28125 8.296875 \nL 54.390625 8.296875 \nL 54.390625 0 \nL 12.40625 0 \nz\n\" id=\"DejaVuSans-49\"/>\n       </defs>\n       <use xlink:href=\"#DejaVuSans-49\"/>\n       <use x=\"63.623047\" xlink:href=\"#DejaVuSans-48\"/>\n       <use x=\"127.246094\" xlink:href=\"#DejaVuSans-48\"/>\n      </g>\n     </g>\n    </g>\n    <g id=\"xtick_7\">\n     <g id=\"line2d_7\">\n      <g>\n       <use style=\"stroke:#000000;stroke-width:0.8;\" x=\"303.915726\" xlink:href=\"#mc0183c22a6\" y=\"224.64\"/>\n      </g>\n     </g>\n     <g id=\"text_7\">\n      <!-- 120 -->\n      <g transform=\"translate(294.371976 239.238437)scale(0.1 -0.1)\">\n       <use xlink:href=\"#DejaVuSans-49\"/>\n       <use x=\"63.623047\" xlink:href=\"#DejaVuSans-50\"/>\n       <use x=\"127.246094\" xlink:href=\"#DejaVuSans-48\"/>\n      </g>\n     </g>\n    </g>\n    <g id=\"xtick_8\">\n     <g id=\"line2d_8\">\n      <g>\n       <use style=\"stroke:#000000;stroke-width:0.8;\" x=\"346.484067\" xlink:href=\"#mc0183c22a6\" y=\"224.64\"/>\n      </g>\n     </g>\n     <g id=\"text_8\">\n      <!-- 140 -->\n      <g transform=\"translate(336.940317 239.238437)scale(0.1 -0.1)\">\n       <use xlink:href=\"#DejaVuSans-49\"/>\n       <use x=\"63.623047\" xlink:href=\"#DejaVuSans-52\"/>\n       <use x=\"127.246094\" xlink:href=\"#DejaVuSans-48\"/>\n      </g>\n     </g>\n    </g>\n   </g>\n   <g id=\"matplotlib.axis_2\">\n    <g id=\"ytick_1\">\n     <g id=\"line2d_9\">\n      <defs>\n       <path d=\"M 0 0 \nL -3.5 0 \n\" id=\"m1139e82824\" style=\"stroke:#000000;stroke-width:0.8;\"/>\n      </defs>\n      <g>\n       <use style=\"stroke:#000000;stroke-width:0.8;\" x=\"33.2875\" xlink:href=\"#m1139e82824\" y=\"216.282794\"/>\n      </g>\n     </g>\n     <g id=\"text_9\">\n      <!-- 100 -->\n      <g transform=\"translate(7.2 220.082013)scale(0.1 -0.1)\">\n       <use xlink:href=\"#DejaVuSans-49\"/>\n       <use x=\"63.623047\" xlink:href=\"#DejaVuSans-48\"/>\n       <use x=\"127.246094\" xlink:href=\"#DejaVuSans-48\"/>\n      </g>\n     </g>\n    </g>\n    <g id=\"ytick_2\">\n     <g id=\"line2d_10\">\n      <g>\n       <use style=\"stroke:#000000;stroke-width:0.8;\" x=\"33.2875\" xlink:href=\"#m1139e82824\" y=\"178.122036\"/>\n      </g>\n     </g>\n     <g id=\"text_10\">\n      <!-- 200 -->\n      <g transform=\"translate(7.2 181.921255)scale(0.1 -0.1)\">\n       <use xlink:href=\"#DejaVuSans-50\"/>\n       <use x=\"63.623047\" xlink:href=\"#DejaVuSans-48\"/>\n       <use x=\"127.246094\" xlink:href=\"#DejaVuSans-48\"/>\n      </g>\n     </g>\n    </g>\n    <g id=\"ytick_3\">\n     <g id=\"line2d_11\">\n      <g>\n       <use style=\"stroke:#000000;stroke-width:0.8;\" x=\"33.2875\" xlink:href=\"#m1139e82824\" y=\"139.961278\"/>\n      </g>\n     </g>\n     <g id=\"text_11\">\n      <!-- 300 -->\n      <g transform=\"translate(7.2 143.760496)scale(0.1 -0.1)\">\n       <defs>\n        <path d=\"M 40.578125 39.3125 \nQ 47.65625 37.796875 51.625 33 \nQ 55.609375 28.21875 55.609375 21.1875 \nQ 55.609375 10.40625 48.1875 4.484375 \nQ 40.765625 -1.421875 27.09375 -1.421875 \nQ 22.515625 -1.421875 17.65625 -0.515625 \nQ 12.796875 0.390625 7.625 2.203125 \nL 7.625 11.71875 \nQ 11.71875 9.328125 16.59375 8.109375 \nQ 21.484375 6.890625 26.8125 6.890625 \nQ 36.078125 6.890625 40.9375 10.546875 \nQ 45.796875 14.203125 45.796875 21.1875 \nQ 45.796875 27.640625 41.28125 31.265625 \nQ 36.765625 34.90625 28.71875 34.90625 \nL 20.21875 34.90625 \nL 20.21875 43.015625 \nL 29.109375 43.015625 \nQ 36.375 43.015625 40.234375 45.921875 \nQ 44.09375 48.828125 44.09375 54.296875 \nQ 44.09375 59.90625 40.109375 62.90625 \nQ 36.140625 65.921875 28.71875 65.921875 \nQ 24.65625 65.921875 20.015625 65.03125 \nQ 15.375 64.15625 9.8125 62.3125 \nL 9.8125 71.09375 \nQ 15.4375 72.65625 20.34375 73.4375 \nQ 25.25 74.21875 29.59375 74.21875 \nQ 40.828125 74.21875 47.359375 69.109375 \nQ 53.90625 64.015625 53.90625 55.328125 \nQ 53.90625 49.265625 50.4375 45.09375 \nQ 46.96875 40.921875 40.578125 39.3125 \nz\n\" id=\"DejaVuSans-51\"/>\n       </defs>\n       <use xlink:href=\"#DejaVuSans-51\"/>\n       <use x=\"63.623047\" xlink:href=\"#DejaVuSans-48\"/>\n       <use x=\"127.246094\" xlink:href=\"#DejaVuSans-48\"/>\n      </g>\n     </g>\n    </g>\n    <g id=\"ytick_4\">\n     <g id=\"line2d_12\">\n      <g>\n       <use style=\"stroke:#000000;stroke-width:0.8;\" x=\"33.2875\" xlink:href=\"#m1139e82824\" y=\"101.800519\"/>\n      </g>\n     </g>\n     <g id=\"text_12\">\n      <!-- 400 -->\n      <g transform=\"translate(7.2 105.599738)scale(0.1 -0.1)\">\n       <use xlink:href=\"#DejaVuSans-52\"/>\n       <use x=\"63.623047\" xlink:href=\"#DejaVuSans-48\"/>\n       <use x=\"127.246094\" xlink:href=\"#DejaVuSans-48\"/>\n      </g>\n     </g>\n    </g>\n    <g id=\"ytick_5\">\n     <g id=\"line2d_13\">\n      <g>\n       <use style=\"stroke:#000000;stroke-width:0.8;\" x=\"33.2875\" xlink:href=\"#m1139e82824\" y=\"63.639761\"/>\n      </g>\n     </g>\n     <g id=\"text_13\">\n      <!-- 500 -->\n      <g transform=\"translate(7.2 67.43898)scale(0.1 -0.1)\">\n       <defs>\n        <path d=\"M 10.796875 72.90625 \nL 49.515625 72.90625 \nL 49.515625 64.59375 \nL 19.828125 64.59375 \nL 19.828125 46.734375 \nQ 21.96875 47.46875 24.109375 47.828125 \nQ 26.265625 48.1875 28.421875 48.1875 \nQ 40.625 48.1875 47.75 41.5 \nQ 54.890625 34.8125 54.890625 23.390625 \nQ 54.890625 11.625 47.5625 5.09375 \nQ 40.234375 -1.421875 26.90625 -1.421875 \nQ 22.3125 -1.421875 17.546875 -0.640625 \nQ 12.796875 0.140625 7.71875 1.703125 \nL 7.71875 11.625 \nQ 12.109375 9.234375 16.796875 8.0625 \nQ 21.484375 6.890625 26.703125 6.890625 \nQ 35.15625 6.890625 40.078125 11.328125 \nQ 45.015625 15.765625 45.015625 23.390625 \nQ 45.015625 31 40.078125 35.4375 \nQ 35.15625 39.890625 26.703125 39.890625 \nQ 22.75 39.890625 18.8125 39.015625 \nQ 14.890625 38.140625 10.796875 36.28125 \nz\n\" id=\"DejaVuSans-53\"/>\n       </defs>\n       <use xlink:href=\"#DejaVuSans-53\"/>\n       <use x=\"63.623047\" xlink:href=\"#DejaVuSans-48\"/>\n       <use x=\"127.246094\" xlink:href=\"#DejaVuSans-48\"/>\n      </g>\n     </g>\n    </g>\n    <g id=\"ytick_6\">\n     <g id=\"line2d_14\">\n      <g>\n       <use style=\"stroke:#000000;stroke-width:0.8;\" x=\"33.2875\" xlink:href=\"#m1139e82824\" y=\"25.479003\"/>\n      </g>\n     </g>\n     <g id=\"text_14\">\n      <!-- 600 -->\n      <g transform=\"translate(7.2 29.278222)scale(0.1 -0.1)\">\n       <use xlink:href=\"#DejaVuSans-54\"/>\n       <use x=\"63.623047\" xlink:href=\"#DejaVuSans-48\"/>\n       <use x=\"127.246094\" xlink:href=\"#DejaVuSans-48\"/>\n      </g>\n     </g>\n    </g>\n   </g>\n   <g id=\"line2d_15\">\n    <path clip-path=\"url(#p3693f45513)\" d=\"M 48.505682 211.703503 \nL 50.634099 209.413857 \nL 52.762516 204.071351 \nL 54.890933 205.216174 \nL 57.01935 208.269035 \nL 59.147767 202.926529 \nL 61.276184 197.96563 \nL 63.404601 197.96563 \nL 65.533018 202.544921 \nL 67.661435 209.03225 \nL 69.789852 214.756364 \nL 71.918269 209.413857 \nL 74.046686 210.55868 \nL 76.175103 206.360997 \nL 78.30352 200.636883 \nL 80.431937 202.926529 \nL 82.560354 206.742604 \nL 84.688771 197.584022 \nL 86.817188 189.570263 \nL 88.945606 189.570263 \nL 91.074023 194.149554 \nL 93.20244 203.689744 \nL 95.330857 210.940288 \nL 97.459274 201.018491 \nL 101.716108 197.202415 \nL 103.844525 186.517403 \nL 105.972942 192.241516 \nL 108.101359 188.807048 \nL 110.229776 186.517403 \nL 112.358193 178.503643 \nL 114.48661 178.503643 \nL 116.615027 184.227757 \nL 118.743444 192.623124 \nL 120.871861 198.728845 \nL 123.000278 191.096694 \nL 125.128695 189.188656 \nL 127.257112 185.754187 \nL 129.385529 180.793289 \nL 131.513946 185.37258 \nL 133.642363 184.609365 \nL 135.77078 171.253099 \nL 140.027614 162.094517 \nL 142.156031 174.687568 \nL 144.284449 181.556504 \nL 146.412866 188.807048 \nL 148.541283 180.411681 \nL 150.6697 179.648466 \nL 152.798117 179.648466 \nL 154.926534 164.384163 \nL 157.054951 164.76577 \nL 159.183368 167.055416 \nL 161.311785 161.71291 \nL 163.440202 153.699151 \nL 165.568619 150.64629 \nL 167.697036 164.002555 \nL 169.825453 173.924352 \nL 171.95387 185.754187 \nL 174.082287 177.740428 \nL 176.210704 176.595605 \nL 178.339121 182.701327 \nL 180.467538 164.76577 \nL 182.595955 167.818631 \nL 184.724372 165.147378 \nL 186.852789 153.699151 \nL 188.981206 139.198062 \nL 191.109623 142.632531 \nL 193.23804 155.607188 \nL 195.366457 167.055416 \nL 197.494874 176.977213 \nL 199.623291 167.055416 \nL 201.751709 162.094517 \nL 203.880126 165.528986 \nL 206.008543 152.554328 \nL 208.13696 151.791113 \nL 210.265377 151.409505 \nL 212.393794 134.237164 \nL 214.522211 115.538392 \nL 216.650628 122.025721 \nL 218.779045 135.381987 \nL 223.035879 164.002555 \nL 225.164296 148.356644 \nL 227.292713 146.066999 \nL 229.42113 148.738252 \nL 231.549547 133.473949 \nL 233.677964 135.000379 \nL 235.806381 133.092341 \nL 237.934798 111.722317 \nL 240.063215 96.839621 \nL 242.191632 99.892482 \nL 246.448466 137.671632 \nL 248.576883 151.027898 \nL 250.7053 137.671632 \nL 252.833717 134.237164 \nL 254.962134 139.57967 \nL 257.090551 118.591253 \nL 259.218969 121.644114 \nL 261.347386 118.972861 \nL 263.475803 93.405153 \nL 265.60422 76.996027 \nL 267.732637 76.232812 \nL 269.861054 100.274089 \nL 271.989471 122.025721 \nL 274.117888 138.05324 \nL 276.246305 126.223405 \nL 278.374722 124.696974 \nL 280.503139 133.092341 \nL 282.631556 116.301608 \nL 284.759973 121.644114 \nL 286.88839 115.92 \nL 289.016807 88.444254 \nL 291.145224 67.07423 \nL 293.273641 61.731723 \nL 295.402058 100.274089 \nL 297.530475 117.44643 \nL 299.658892 136.145202 \nL 301.787309 125.841797 \nL 303.915726 117.064823 \nL 306.044143 123.933759 \nL 308.17256 99.510874 \nL 310.300977 103.32695 \nL 312.429394 94.168368 \nL 314.557812 74.324774 \nL 316.686229 45.322597 \nL 318.814646 41.124914 \nL 320.943063 77.759242 \nL 323.07148 99.129266 \nL 325.199897 116.301608 \nL 327.328314 99.892482 \nL 329.456731 95.313191 \nL 331.585148 105.234988 \nL 333.713565 94.549975 \nL 335.841982 78.522457 \nL 337.970399 74.324774 \nL 340.098816 50.283496 \nL 342.227233 17.083636 \nL 344.35565 23.189358 \nL 346.484067 60.586901 \nL 348.612484 78.522457 \nL 350.740901 105.616595 \nL 352.869318 89.589077 \nL 352.869318 89.589077 \n\" style=\"fill:none;stroke:#1f77b4;stroke-linecap:square;stroke-width:1.5;\"/>\n   </g>\n   <g id=\"patch_3\">\n    <path d=\"M 33.2875 224.64 \nL 33.2875 7.2 \n\" style=\"fill:none;stroke:#000000;stroke-linecap:square;stroke-linejoin:miter;stroke-width:0.8;\"/>\n   </g>\n   <g id=\"patch_4\">\n    <path d=\"M 368.0875 224.64 \nL 368.0875 7.2 \n\" style=\"fill:none;stroke:#000000;stroke-linecap:square;stroke-linejoin:miter;stroke-width:0.8;\"/>\n   </g>\n   <g id=\"patch_5\">\n    <path d=\"M 33.2875 224.64 \nL 368.0875 224.64 \n\" style=\"fill:none;stroke:#000000;stroke-linecap:square;stroke-linejoin:miter;stroke-width:0.8;\"/>\n   </g>\n   <g id=\"patch_6\">\n    <path d=\"M 33.2875 7.2 \nL 368.0875 7.2 \n\" style=\"fill:none;stroke:#000000;stroke-linecap:square;stroke-linejoin:miter;stroke-width:0.8;\"/>\n   </g>\n  </g>\n </g>\n <defs>\n  <clipPath id=\"p3693f45513\">\n   <rect height=\"217.44\" width=\"334.8\" x=\"33.2875\" y=\"7.2\"/>\n  </clipPath>\n </defs>\n</svg>\n",
            "image/png": "[encoded data removed]"
          },
          "metadata": {
            "needs_background": "light"
          }
        }
      ]
    },
    {
      "cell_type": "markdown",
      "metadata": {
        "id": "_qo-Bn3vxGvD"
      },
      "source": [
        "## Prepare the training and testing dataset.\n"
      ]
    },
    {
      "cell_type": "code",
      "metadata": {
        "id": "ZCFod5yYxQXt"
      },
      "source": [
        "def sliding_windows(data, seq_length):\n",
        "    x = []\n",
        "    y = []\n",
        "\n",
        "    for i in range(len(data)-seq_length-1):\n",
        "        _x = data[i:(i+seq_length)]\n",
        "        _y = data[i+seq_length]\n",
        "        x.append(_x)\n",
        "        y.append(_y)\n",
        "\n",
        "    return np.array(x),np.array(y)\n",
        "\n",
        "sc = MinMaxScaler()\n",
        "training_data = sc.fit_transform(training_set)\n",
        "\n",
        "seq_length = 4\n",
        "x, y = sliding_windows(training_data, seq_length)\n",
        "\n",
        "train_size = int(len(y) * 0.67)\n",
        "test_size = len(y) - train_size\n",
        "\n",
        "dataX = Variable(torch.Tensor(np.array(x)))\n",
        "dataY = Variable(torch.Tensor(np.array(y)))\n",
        "\n",
        "trainX = Variable(torch.Tensor(np.array(x[0:train_size])))\n",
        "trainY = Variable(torch.Tensor(np.array(y[0:train_size])))\n",
        "\n",
        "testX = Variable(torch.Tensor(np.array(x[train_size:len(x)])))\n",
        "testY = Variable(torch.Tensor(np.array(y[train_size:len(y)])))"
      ],
      "execution_count": 18,
      "outputs": []
    },
    {
      "cell_type": "markdown",
      "metadata": {
        "id": "6-fbsv6_xVhu"
      },
      "source": [
        "## Create the model"
      ]
    },
    {
      "cell_type": "code",
      "metadata": {
        "id": "KC_5L1NIxUsR"
      },
      "source": [
        "class LSTM(nn.Module):\n",
        "\n",
        "    def __init__(self, num_classes, input_size, hidden_size, num_layers):\n",
        "        super(LSTM, self).__init__()\n",
        "        \n",
        "        self.num_classes = num_classes\n",
        "        self.num_layers = num_layers\n",
        "        self.input_size = input_size\n",
        "        self.hidden_size = hidden_size\n",
        "        self.seq_length = seq_length\n",
        "\n",
        "        # Your code goes here\n",
        "        self.lstm   = nn.LSTM(input_size,hidden_size, num_layers,batch_first=True)\n",
        "        self.fc = nn.Linear(hidden_size, num_classes)\n",
        "        # define a lstm block and a fc block\n",
        "\n",
        "    def forward(self, x):\n",
        "       \n",
        "        # Your code goes here\n",
        "        out, h_out = self.lstm(x)\n",
        "        out = out.reshape(-1, hidden_size) \n",
        "        out = self.fc(out)\n",
        "        # Define a forward function for the LSTM block\n",
        "        return out"
      ],
      "execution_count": 34,
      "outputs": []
    },
    {
      "cell_type": "markdown",
      "metadata": {
        "id": "sQKOnThFxxuJ"
      },
      "source": [
        "## Training"
      ]
    },
    {
      "cell_type": "code",
      "metadata": {
        "id": "vlj9F1Z6xxFR"
      },
      "source": [
        "num_epochs = 2000\n",
        "learning_rate = 0.01\n",
        "\n",
        "input_size = 1\n",
        "hidden_size = 2\n",
        "num_layers = 1\n",
        "\n",
        "num_classes = 1\n",
        "\n",
        "lstm = LSTM(num_classes, input_size, hidden_size, num_layers)\n",
        "\n",
        "criterion = torch.nn.MSELoss()    # mean-squared error for regression\n",
        "optimizer = torch.optim.Adam(lstm.parameters(), lr=learning_rate)\n",
        "#optimizer = torch.optim.SGD(lstm.parameters(), lr=learning_rate)\n",
        "\n",
        "# Train the model\n",
        "for epoch in range(num_epochs):\n",
        "\n",
        "    # Your code goes here\n",
        "    for i in range(train_size):\n",
        "        x=trainX[i]\n",
        "        y=trainY[i]\n",
        "        x = x.unsqueeze(0) # unsqueeze gives a 1, batch_size dimension\n",
        "        optimizer.zero_grad()\n",
        "        y_pred = lstm(x)\n",
        "\n",
        "        loss = criterion(y_pred,y)\n",
        "        loss.backward()\n",
        "        optimizer.step()\n",
        "    # define a training iteration to the lstm model. Use loss variable to compute the training loss\n",
        "\n",
        "    if epoch % 100 == 0:\n",
        "      print(\"Epoch: %d, loss: %1.5f\" % (epoch, loss.item()))"
      ],
      "execution_count": 38,
      "outputs": [
        {
          "output_type": "error",
          "ename": "TypeError",
          "evalue": "'int' object is not iterable",
          "traceback": [
            "\u001b[0;31m---------------------------------------------------------------------------\u001b[0m",
            "\u001b[0;31mTypeError\u001b[0m                                 Traceback (most recent call last)",
            "\u001b[0;32m<ipython-input-38-1808a1997dc2>\u001b[0m in \u001b[0;36m<module>\u001b[0;34m\u001b[0m\n\u001b[1;32m     18\u001b[0m \u001b[0;34m\u001b[0m\u001b[0m\n\u001b[1;32m     19\u001b[0m     \u001b[0;31m# Your code goes here\u001b[0m\u001b[0;34m\u001b[0m\u001b[0;34m\u001b[0m\u001b[0;34m\u001b[0m\u001b[0m\n\u001b[0;32m---> 20\u001b[0;31m     \u001b[0;32mfor\u001b[0m \u001b[0mi\u001b[0m \u001b[0;32min\u001b[0m \u001b[0mtrain_size\u001b[0m\u001b[0;34m:\u001b[0m\u001b[0;34m\u001b[0m\u001b[0;34m\u001b[0m\u001b[0m\n\u001b[0m\u001b[1;32m     21\u001b[0m         \u001b[0mx\u001b[0m\u001b[0;34m=\u001b[0m\u001b[0mtrainX\u001b[0m\u001b[0;34m[\u001b[0m\u001b[0mi\u001b[0m\u001b[0;34m]\u001b[0m\u001b[0;34m\u001b[0m\u001b[0;34m\u001b[0m\u001b[0m\n\u001b[1;32m     22\u001b[0m         \u001b[0my\u001b[0m\u001b[0;34m=\u001b[0m\u001b[0mtrainY\u001b[0m\u001b[0;34m[\u001b[0m\u001b[0mi\u001b[0m\u001b[0;34m]\u001b[0m\u001b[0;34m\u001b[0m\u001b[0;34m\u001b[0m\u001b[0m\n",
            "\u001b[0;31mTypeError\u001b[0m: 'int' object is not iterable"
          ]
        }
      ]
    },
    {
      "cell_type": "markdown",
      "metadata": {
        "id": "gF0UsfR8yFrO"
      },
      "source": [
        "## Test and Visualize the results. \n",
        "Plot the output of time series similar to the data plot above."
      ]
    },
    {
      "cell_type": "code",
      "metadata": {
        "id": "y7-eERYByJ3O"
      },
      "source": [],
      "execution_count": null,
      "outputs": []
    },
    {
      "cell_type": "markdown",
      "metadata": {
        "id": "OPTjxV0G6g8X"
      },
      "source": [
        "#### **Welcome to Assignment 4 (part-2) on Deep Learning for Computer Vision.**\n",
        "This question consists of two subsection. In subsection-1 you'll have to code a Siamese Network, for subsection-2 you need to go through a official PyTorch tutorial on Object Detection, understand it and answer some questions.\n",
        "  \n",
        "#### **Instructions**\n",
        "1. Use Python 3.x to run this notebook\n",
        "2. Write your code only in between the lines 'YOUR CODE STARTS HERE' and 'YOUR CODE ENDS HERE'.\n",
        "you should not change anything else in the code cells, if you do, the answers you are supposed to get at the end of this assignment might be wrong.\n",
        "3. Read documentation of each function carefully.\n",
        "4. All the Best!"
      ]
    },
    {
      "cell_type": "code",
      "metadata": {
        "id": "tJwH6jxrqI-5"
      },
      "source": [
        "import numpy as np\n",
        "import torch\n",
        "import torch.nn as nn\n",
        "import torch.optim as optim\n",
        "from torchvision import datasets, transforms\n",
        "import torch.nn.functional as F\n",
        "from torch.utils.data import Dataset\n",
        "from torch.utils.data.sampler import BatchSampler\n",
        "from torch.optim import lr_scheduler\n",
        "from PIL import Image\n",
        "import timeit\n",
        "\n",
        "## Please DONOT remove these lines. \n",
        "torch.manual_seed(0)\n",
        "torch.backends.cudnn.deterministic = True\n",
        "torch.backends.cudnn.benchmark = False\n",
        "np.random.seed(0)\n",
        "########################\n",
        "\n",
        "#### YOUR CODE STARTS HERE ####\n",
        "# Check availability of GPU and set the device accordingly\n",
        "device = \n",
        "#### YOUR CODE ENDS HERE ####\n"
      ],
      "execution_count": null,
      "outputs": []
    },
    {
      "cell_type": "markdown",
      "metadata": {
        "id": "nhSvcqdYqJ6U"
      },
      "source": [
        "#### Prepare the dataset for Siamese Network"
      ]
    },
    {
      "cell_type": "code",
      "metadata": {
        "id": "stYbGPoLqzDE"
      },
      "source": [
        "class SiameseDataset(Dataset):\n",
        "    def __init__(self, train=True):\n",
        "        \n",
        "        self.train = train\n",
        "        #### YOUR CODE STARTS HERE ####\n",
        "        # Define a set of transforms for preparing the dataset\n",
        "        self.transform =  # convert the image to a pytorch tensor\n",
        "                          # normalise the images with mean and std of the dataset\n",
        "        \n",
        "        # Load the MNIST training, test datasets using `torchvision.datasets.MNIST\n",
        "        # Set the train parameter to self.train and transform parameter to self.transform\n",
        "        self.dataset = \n",
        "\n",
        "        #### YOUR CODE ENDS HERE ####\n",
        "        if self.train:\n",
        "            #### YOUR CODE STARTS HERE ####\n",
        "            # assign input (x-values) of training data \n",
        "            self.train_data =\n",
        "            # assign labels of training data \n",
        "            self.train_labels = \n",
        "            # get the set of all the labels in the dataset\n",
        "            self.labels_all = \n",
        "            self.label_to_idx = {} # assign a unique index to all labels in the dataset and store them in a dictionary \n",
        "\n",
        "            #### YOUR CODE ENDS HERE ####\n",
        "        else:\n",
        "            #### YOUR CODE STARTS HERE ####\n",
        "            # assign input (x-values) of test data \n",
        "            self.test_data = \n",
        "            # assign labels of test data \n",
        "            self.test_labels = \n",
        "            # get the set of all the labels in the dataset\n",
        "            self.labels_all = \n",
        "            self.label_to_idx = {} # assign a unique index to all labels in the dataset and store them in a dictionary \n",
        "\n",
        "            #### YOUR CODE ENDS HERE ####\n",
        "            # DONOT change this line of code  \n",
        "            random_state = np.random.RandomState(0)\n",
        "\n",
        "            positive_samples = [] # this will be a list of lists\n",
        "            for ind in range(0, len(self.test_data), 2):\n",
        "              positive_samples.append([ind, random_state.choice(self.label_to_idx[self.test_labels[ind].item()]), 1])\n",
        "            \n",
        "            negative_samples = []\n",
        "            for ind in range(1, len(self.test_data), 2):\n",
        "              negative_samples.append([ind, random_state.choice(self.label_to_idx[np.random.choice(\n",
        "                                                           list(self.labels_all - set([self.test_labels[ind].item()])))]), 0])\n",
        "            \n",
        "            # combine both positive and negative samples into a single variable\n",
        "            #### YOUR CODE STARTS HERE ####\n",
        "            self.test_samples = \n",
        "            #### YOUR CODE ENDS HERE ####\n",
        "    def __len__(self):\n",
        "        return len(self.dataset)\n",
        "\n",
        "    def __getitem__(self, index):\n",
        "        # get image pair, and the associated label (1 for similar, 0 for dissimilar)\n",
        "        if self.train:\n",
        "            #### YOUR CODE STARTS HERE ####\n",
        "            # choose if training sample is similar or dissimilar\n",
        "            target = \n",
        "            # choose two images call them `first_image` and `second_image`\n",
        "            \n",
        "            #### YOUR CODE ENDS HERE ####\n",
        "        else:\n",
        "            #### YOUR CODE STARTS HERE ####\n",
        "            # select two images from self.test_samples, call them `first_image` and `second_image`\n",
        "            first_image = \n",
        "            second_image = \n",
        "            target = \n",
        "            #### YOUR CODE ENDS HERE ####\n",
        "        \n",
        "        first_image = Image.fromarray(first_image.numpy(), mode='L')\n",
        "        second_image = Image.fromarray(second_image.numpy(), mode='L')\n",
        "        first_image = self.transform(first_image)\n",
        "        second_image = self.transform(second_image)\n",
        "        return (first_image, second_image), target\n"
      ],
      "execution_count": null,
      "outputs": []
    },
    {
      "cell_type": "code",
      "metadata": {
        "id": "9gEE-dEarnvg"
      },
      "source": [
        "class EmbeddingNet(nn.Module):\n",
        "    def __init__(self):\n",
        "        super(EmbeddingNet, self).__init__()\n",
        "        #### YOUR CODE STARTS HERE ####\n",
        "        # Define a sequential block as per the instructions below:\n",
        "        # Build three blocks with each block containing: Conv->PReLU->Maxpool layers\n",
        "        # Three conv layers should have 16, 32, 64 output channels respectively\n",
        "        # Use convolution kernel size 3\n",
        "        # For maxpool use a kernel size of 2 and stride of 2\n",
        "\n",
        "        self.convnet = \n",
        "\n",
        "\n",
        "        # Define linear->PReLU->linear->PReLU->linear\n",
        "        # The first two linear layers should have 256 and 128 output nodes\n",
        "        # The final FC layer should have 2 nodes\n",
        "        self.fc =\n",
        "\n",
        "        #### YOUR CODE ENDS HERE ####\n",
        "\n",
        "    def forward(self, x):\n",
        "      #### YOUR CODE STARTS HERE ####\n",
        "        # Define the forward pass, convnet -> fc\n",
        "        output = \n",
        "        #### YOUR CODE ENDS HERE ####\n",
        "        return output"
      ],
      "execution_count": null,
      "outputs": []
    },
    {
      "cell_type": "code",
      "metadata": {
        "id": "JPIClNjsrz78"
      },
      "source": [
        "class SiameseNetwork(nn.Module):\n",
        "    def __init__(self, embedding_net):\n",
        "        super(SiameseNetwork, self).__init__()\n",
        "        self.embedding_net = embedding_net\n",
        "\n",
        "    def forward(self, x1, x2):\n",
        "        # Call the embedding network for both the inputs and return the output\n",
        "        #### YOUR CODE ENDS HERE ####\n",
        "        op1 = \n",
        "        op2 = \n",
        "        #### YOUR CODE ENDS HERE ####\n",
        "        return op1, op2"
      ],
      "execution_count": null,
      "outputs": []
    },
    {
      "cell_type": "markdown",
      "metadata": {
        "id": "nzlZzVgmM3hC"
      },
      "source": [
        "Pairwise contrastive loss\n",
        "$$\n",
        "L\\left(x_{0}, x_{1}, y\\right)=\\frac{1}{2} y\\left\\|f\\left(x_{0}\\right)-f\\left(x_{1}\\right)\\right\\|_{2}^{2}+\\frac{1}{2}(1-y)\\left\\{\\max (0, m-\\sqrt{\\|f(x_{0})-f(x_{1})\\|_{2}^{2} + \\epsilon)})\\right\\}^{2}\n",
        "$$"
      ]
    },
    {
      "cell_type": "code",
      "metadata": {
        "id": "BclsdWZSr4RK"
      },
      "source": [
        "class ContrastiveLossSiamese(nn.Module):\n",
        "\n",
        "    def __init__(self, margin):\n",
        "        super(ContrastiveLossSiamese, self).__init__()\n",
        "        self.margin = margin\n",
        "        self.eps = 1e-9\n",
        "\n",
        "    def forward(self, output1, output2, target):\n",
        "        # Use the equation mentioned above to define the loss\n",
        "        #### YOUR CODE STARTS HERE ####\n",
        "        loss_value = \n",
        "        #### YOUR CODE ENDS HERE ####\n",
        "        loss_value = loss_value.mean()\n",
        "\n",
        "        return loss_value"
      ],
      "execution_count": null,
      "outputs": []
    },
    {
      "cell_type": "code",
      "metadata": {
        "id": "ZVrUkFLmca1I"
      },
      "source": [
        "def train(model, train_loader, device, optimizer, criterion, epoch):\n",
        "    model.train()\n",
        "    losses = []\n",
        "    total_loss = 0\n",
        "\n",
        "    for batch_idx, (data, target) in enumerate(train_loader):\n",
        "        target = target if len(target) > 0 else None\n",
        "        #### YOUR CODE STARTS HERE ####\n",
        "        # send the image, target to the device\n",
        "        # data is not a single value here,\n",
        "        # ensure datatype of variable `data` is tuple\n",
        "        data = \n",
        "        target = \n",
        "        # flush out the gradients stored in optimizer\n",
        "\n",
        "        # pass the image to the model and assign the output to variable named outputs\n",
        "        # python star operator will be useful here\n",
        "        # if the datatype of outputs is not a tuple, make it to a tuple\n",
        "\n",
        "        outputs = \n",
        "\n",
        "        # create inputs to the contrastive loss (datatype should be tuple)\n",
        "        # calculate the loss using criterion \n",
        "        loss = \n",
        "        # append the loss to losses list and update the total_loss variable\n",
        "\n",
        "        # do a backward pass\n",
        "\n",
        "        # update the weights\n",
        "\n",
        "        #### YOUR CODE ENDS HERE ####\n",
        "\n",
        "        if batch_idx % 20 == 0:\n",
        "            print('Train Epoch: {} [{}/{} ({:.0f}%)]\\tLoss: {:.6f}'.format(\n",
        "                epoch, batch_idx * len(data[0]), len(train_loader.dataset),\n",
        "                100. * batch_idx / len(train_loader), np.mean(losses)))  \n",
        "    total_loss /= (batch_idx + 1)\n",
        "    print('Average loss on training set: {:.6f}'.format(total_loss))\n",
        "\n",
        "def test(model, test_loader, device, criterion):\n",
        "    model.eval()\n",
        "    test_loss = 0\n",
        "    with torch.no_grad():\n",
        "        for batch_idx, (data, target) in enumerate(test_loader):\n",
        "          target = target if len(target) > 0 else None\n",
        "          #### YOUR CODE STARTS HERE ####\n",
        "          # send the image, target to the device\n",
        "          # data is not a single value here,\n",
        "          # ensure datatype of variable `data` is tuple\n",
        "          data = \n",
        "          target = \n",
        "          # pass the image to the model and assign the output to variable named outputs\n",
        "          # python star operator will be useful here\n",
        "          # if the datatype of outputs is not a tuple, make it to a tuple\n",
        "          outputs =\n",
        "\n",
        "          # create inputs to the contrastive loss\n",
        "          # datatype of target should be tuple\n",
        "          # calculate the loss\n",
        "          loss = \n",
        "          # update the test_loss variable\n",
        "          \n",
        "          #### YOUR CODE ENDS HERE ####\n",
        "\n",
        "    test_loss /= len(test_loader)\n",
        "    print('Average loss on test set: {:.6f}'.format(test_loss))\n"
      ],
      "execution_count": null,
      "outputs": []
    },
    {
      "cell_type": "code",
      "metadata": {
        "id": "aDZAVVWVcAC5"
      },
      "source": [
        "# define the training and test sets\n",
        "# use SiameseDataset\n",
        "train_dataset = \n",
        "test_dataset =\n",
        "\n",
        "# create dataloaders for training and test datasets\n",
        "# use a batch size of 128 and set shuffle=True for the training set, set num_workers to 2 and pin_memory to True\n",
        "train_dataloader = \n",
        "test_dataloader = \n",
        "\n",
        "margin = 1.\n",
        "# create a instance of the embedding network and pass it as input to Siamese network\n",
        "embedding_net = \n",
        "model = \n",
        "# define the contrative loss with the specified margin\n",
        "criterion = \n",
        "optimizer = "
      ],
      "execution_count": null,
      "outputs": []
    },
    {
      "cell_type": "code",
      "metadata": {
        "id": "CejgunVGzJPK"
      },
      "source": [
        "start = timeit.default_timer()\n",
        "for epoch in range(1, 5):\n",
        "  train(model, train_dataloader, device, optimizer, criterion, epoch)\n",
        "  test(model, test_dataloader, device, criterion)\n",
        "\n",
        "stop = timeit.default_timer()\n",
        "print('Total time taken: {} seconds'.format(int(stop - start)) )"
      ],
      "execution_count": null,
      "outputs": []
    },
    {
      "cell_type": "markdown",
      "metadata": {
        "id": "5S0vb38a_o_r"
      },
      "source": [
        "### Question 4\n",
        "\n",
        "Run the code cell above and plot(on the same graph) the average train and test losses w.r.t epochs trained."
      ]
    },
    {
      "cell_type": "markdown",
      "metadata": {
        "id": "vgyN14PN5npM"
      },
      "source": [
        "### Question 5\n",
        "\n",
        "We have looked at training a Siamese Network with a pairwise contrastive loss. How would you modify the architecture above to use a triplet loss? The triplet loss is a ranking loss that uses image triplets consisting of an anchor $x_a$, a positive sample(similar to the anchor image) $x_p$ and a negative sample(dissimilar to the anchor image) $x_n$. Given triplet $(x_a, x_p, x_n)$ the teiplet loss is:\n",
        "\n",
        "$$\n",
        "L\\left(x_{a}, x_{p}, x_{n}\\right)=\\max \\left(0, m + \\|f(x_{a})-f(x_{p})\\|_{2}^{2} - \\|f(x_{a})-f(x_{n})\\|_{2}^{2}\\right)\n",
        "$$\n",
        "\n",
        "1. Write the dataloader to get triplets.\n",
        "2. Write code for class TripletLossSiamese. (the triplet loss)\n",
        "3. Describe in words how would you modify the network architecture to train it with a triplet loss."
      ]
    },
    {
      "cell_type": "code",
      "metadata": {
        "id": "s1UhDPNO5npM"
      },
      "source": [
        "# Question 2.1, dataloader for triplets\n",
        "class TripletDataset(Dataset):\n",
        "    def __init__(self, train=True):\n",
        "        \n",
        "        self.train = train\n",
        "        #### YOUR CODE STARTS HERE ####\n",
        "        # Define a set of transforms for preparing the dataset\n",
        "        self.transform =  # convert the image to a pytorch tensor\n",
        "                          # normalise the images with mean and std of the dataset\n",
        "        \n",
        "        # Load the MNIST training, test datasets using `torchvision.datasets.MNIST\n",
        "        # Set the train parameter to self.train and transform parameter to self.transform\n",
        "        self.dataset = \n",
        "\n",
        "        #### YOUR CODE ENDS HERE ####\n",
        "        if self.train:\n",
        "            #### YOUR CODE STARTS HERE ####\n",
        "            # assign input (x-values) of training data \n",
        "            self.train_data =\n",
        "            # assign labels of training data \n",
        "            self.train_labels = \n",
        "            # get the set of all the labels in the dataset\n",
        "            self.labels_all = \n",
        "            self.label_to_idx = {} # assign a unique index to all labels in the dataset and store them in a dictionary \n",
        "\n",
        "            #### YOUR CODE ENDS HERE ####\n",
        "        else:\n",
        "            #### YOUR CODE STARTS HERE ####\n",
        "            # assign input (x-values) of test data \n",
        "            self.test_data = \n",
        "            # assign labels of test data \n",
        "            self.test_labels = \n",
        "            # get the set of all the labels in the dataset\n",
        "            self.labels_all = \n",
        "            self.label_to_idx = {} # assign a unique index to all labels in the dataset and store them in a dictionary \n",
        "\n",
        "            #### YOUR CODE ENDS HERE ####\n",
        "            # DONOT change this line of code  \n",
        "            random_state = np.random.RandomState(0)\n",
        "            triplets = [] #this will be list of lists\n",
        "            for i in range(len(self.test_data)):\n",
        "                triplets.append([i, random_state.choice(self.label_to_idx[self.test_labels[i].item()]),\n",
        "                 random_state.choice(self.label_to_idx[np.random.choice(list(self.labels_all - set([self.test_labels[i].item()])))])\n",
        "                                ])\n",
        "            self.test_samples = triplets\n",
        "\n",
        "           \n",
        "    def __len__(self):\n",
        "        return len(self.dataset)\n",
        "\n",
        "    def __getitem__(self, index):\n",
        "        # get image triplet\n",
        "        if self.train:\n",
        "            anchor, anchor_label = self.train_data[index], self.train_labels[index].item\n",
        "            #### YOUR CODE STARTS HERE ####\n",
        "            #choose positive and negative image call them `positive` and `negative` respectively\n",
        "            \n",
        "            #### YOUR CODE ENDS HERE ####\n",
        "        else:\n",
        "            #### YOUR CODE STARTS HERE ####\n",
        "            # select three images from self.test_samples\n",
        "            anchor = \n",
        "            positive = \n",
        "            negative = \n",
        "            #### YOUR CODE ENDS HERE ####\n",
        "        \n",
        "        anchor = Image.fromarray(anchor.numpy(), mode='L')\n",
        "        positive = Image.fromarray(positive.numpy(), mode='L')\n",
        "        negative = Image.fromarray(negative.numpy(), mode='L')\n",
        "        anchor = self.transform(anchor)\n",
        "        positive = self.transform(positive)\n",
        "        negative = self.transform(negative)\n",
        "        return (anchor, positive, negative), []"
      ],
      "execution_count": null,
      "outputs": []
    },
    {
      "cell_type": "code",
      "metadata": {
        "id": "Yz-LGiJN5npM"
      },
      "source": [
        "# Question 2.2, define triplet loss\n",
        "class TripletLossSiamese(nn.Module):\n",
        "\n",
        "    def __init__(self, margin):\n",
        "        super(TripletLossSiamese, self).__init__()\n",
        "        self.margin = margin\n",
        "\n",
        "    def forward(self, output_anchor, output_positive, output_negative):\n",
        "        # Use the triplet loss equation mentioned above to define the loss\n",
        "        #### YOUR CODE STARTS HERE ####\n",
        "        loss_value = \n",
        "        #### YOUR CODE ENDS HERE ####\n",
        "        loss_value = loss_value.mean()\n",
        "\n",
        "        return loss_value"
      ],
      "execution_count": null,
      "outputs": []
    },
    {
      "cell_type": "markdown",
      "metadata": {
        "id": "6oP275cQFPvA"
      },
      "source": [
        "## Object Detection\n",
        "\n",
        "Go through the [Torchvision Object Detection Tutorial](https://pytorch.org/tutorials/intermediate/torchvision_tutorial.html) and ensure you understand the tutorial completely!\n",
        "\n",
        "After you have completely gone through the tutorial answer the following questions!"
      ]
    },
    {
      "cell_type": "markdown",
      "metadata": {
        "id": "LtaG0iORIXid"
      },
      "source": [
        "### Question 6\n",
        "\n",
        "Consider the metrics `AP@IoU=0.5` and `AP@IoU=0.75` used in the tutorial. Which of the following statements is True?  \n",
        "\n",
        "1. `IoU@0.75` will always be less than `IoU@0.5`\n",
        "2. `IoU@0.75` will always be  greater than `IoU@0.5` \n",
        "3. `IoU@0.75` need not be always be less than `IoU@0.5`\n",
        "4. `IoU@0.75` need not always be  greater than `IoU@0.5` "
      ]
    },
    {
      "cell_type": "markdown",
      "metadata": {
        "id": "n9yyqsuyPAMv"
      },
      "source": [
        "### Question 7\n",
        "\n",
        "Tutorial uses a network that is pre-trained on COCO dataset. Will training this model from scratch improve the performance? Provide justification for your answer. (Hint: You don't really have to re-train the model for this)"
      ]
    },
    {
      "cell_type": "markdown",
      "metadata": {
        "id": "71DVEZQf5hr8"
      },
      "source": [
        "### Question 8\n",
        "\n",
        "Write code to calculate IoU between aligned predicted bounding-boxes bbox_p and ground-truth bounding-boxes bbox_gt. Assume a co-ordinate system that has origin (0,0) at the upper-left corner of the image, and to the  right and down are +ve directions of x-axis and y-axis respectively."
      ]
    },
    {
      "cell_type": "code",
      "metadata": {
        "id": "rngaSEln5npN"
      },
      "source": [
        "def calculate_iou(bbox_p, bbox_gt):\n",
        "    #input: bbox_p and bbox_gt are (N,4) tensors\n",
        "    #output: ious (N,) vector\n",
        "    N = bbox_p.size(0)\n",
        "    \n",
        "    #### YOUR CODE STARTS HERE ####\n",
        "    # write code to compute the IoU between the bounding boxes\n",
        "    \n",
        "    #### YOUR CODE ENDS HERE ####\n",
        "    \n",
        "    return ious"
      ],
      "execution_count": null,
      "outputs": []
    },
    {
      "cell_type": "markdown",
      "metadata": {
        "id": "jR10OiXy6SkR"
      },
      "source": []
    }
  ]
}